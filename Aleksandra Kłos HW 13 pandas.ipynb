{
 "cells": [
  {
   "cell_type": "code",
   "execution_count": 7,
   "id": "9cde09a1",
   "metadata": {},
   "outputs": [],
   "source": [
    "import pandas as pd\n",
    "import random"
   ]
  },
  {
   "cell_type": "code",
   "execution_count": 39,
   "id": "c4dbca28",
   "metadata": {},
   "outputs": [
    {
     "data": {
      "text/plain": [
       "0     7\n",
       "1    11\n",
       "2    13\n",
       "3    17\n",
       "dtype: int64"
      ]
     },
     "execution_count": 39,
     "metadata": {},
     "output_type": "execute_result"
    }
   ],
   "source": [
    "# 1. [pandas Series] Perform the following tasks with pandas Series:\n",
    "# a. Create a Series from the list [7, 11, 13, 17].\n",
    "s=pd.Series([7, 11, 13, 17])\n",
    "s"
   ]
  },
  {
   "cell_type": "code",
   "execution_count": 40,
   "id": "f53dd1c0",
   "metadata": {},
   "outputs": [
    {
     "data": {
      "text/plain": [
       "0    100\n",
       "1    100\n",
       "2    100\n",
       "3    100\n",
       "4    100\n",
       "dtype: int64"
      ]
     },
     "execution_count": 40,
     "metadata": {},
     "output_type": "execute_result"
    }
   ],
   "source": [
    "# b. Create a Series with five elements that are all 100.0.\n",
    "s1=pd.Series(100,range(5)) #pd.Series([100]*5)\n",
    "s1"
   ]
  },
  {
   "cell_type": "code",
   "execution_count": 41,
   "id": "aa609266",
   "metadata": {},
   "outputs": [
    {
     "data": {
      "text/plain": [
       "count    20.0\n",
       "mean     62.0\n",
       "std       0.0\n",
       "min      62.0\n",
       "25%      62.0\n",
       "50%      62.0\n",
       "75%      62.0\n",
       "max      62.0\n",
       "dtype: float64"
      ]
     },
     "execution_count": 41,
     "metadata": {},
     "output_type": "execute_result"
    }
   ],
   "source": [
    "#c Create a Series with 20 elements that are all random numbers in the range 0 to 100.\n",
    "#Use method describe() to produce the Series’ basic descriptive statistics.\n",
    "s2=pd.Series(random.randrange(0,100), range(20)) #pd.Series([random.randrange(0,100) for i in range(20)])\n",
    "s2.describe()"
   ]
  },
  {
   "cell_type": "code",
   "execution_count": 42,
   "id": "df0eff25",
   "metadata": {},
   "outputs": [
    {
     "data": {
      "text/plain": [
       "Julie       98.6\n",
       "Charlie     98.9\n",
       "Sam        100.2\n",
       "Andrea      97.9\n",
       "Name: Temperatures, dtype: float64"
      ]
     },
     "execution_count": 42,
     "metadata": {},
     "output_type": "execute_result"
    }
   ],
   "source": [
    "# d. Create a Series called temperatures of the floating-point values 98.6, 98.9, 100.2 and\n",
    "# 97.9. Using the index keyword argument, specify the custom indices 'Julie', 'Charlie',\n",
    "# 'Sam' and 'Andrea'.\n",
    "s3=pd.Series([98.6, 98.9, 100.2, 97.9 ], index=['Julie', 'Charlie','Sam', 'Andrea'],name = 'Temperatures')\n",
    "s3"
   ]
  },
  {
   "cell_type": "code",
   "execution_count": 43,
   "id": "2a1061e3",
   "metadata": {},
   "outputs": [
    {
     "data": {
      "text/plain": [
       "Julie       98.6\n",
       "Charlie     98.9\n",
       "Sam        100.2\n",
       "Andrea      97.9\n",
       "dtype: float64"
      ]
     },
     "execution_count": 43,
     "metadata": {},
     "output_type": "execute_result"
    }
   ],
   "source": [
    "# e. Form a dictionary from the names and values in Part (d), then use it to initialize a\n",
    "# Series.\n",
    "d3=s3.to_dict()\n",
    "pd.Series(d3)"
   ]
  },
  {
   "cell_type": "code",
   "execution_count": 59,
   "id": "3c1ef649",
   "metadata": {},
   "outputs": [
    {
     "data": {
      "text/html": [
       "<div>\n",
       "<style scoped>\n",
       "    .dataframe tbody tr th:only-of-type {\n",
       "        vertical-align: middle;\n",
       "    }\n",
       "\n",
       "    .dataframe tbody tr th {\n",
       "        vertical-align: top;\n",
       "    }\n",
       "\n",
       "    .dataframe thead th {\n",
       "        text-align: right;\n",
       "    }\n",
       "</style>\n",
       "<table border=\"1\" class=\"dataframe\">\n",
       "  <thead>\n",
       "    <tr style=\"text-align: right;\">\n",
       "      <th></th>\n",
       "      <th>name</th>\n",
       "      <th>temperature</th>\n",
       "    </tr>\n",
       "  </thead>\n",
       "  <tbody>\n",
       "    <tr>\n",
       "      <th>0</th>\n",
       "      <td>Maxine</td>\n",
       "      <td>23</td>\n",
       "    </tr>\n",
       "    <tr>\n",
       "      <th>1</th>\n",
       "      <td>James</td>\n",
       "      <td>32</td>\n",
       "    </tr>\n",
       "    <tr>\n",
       "      <th>2</th>\n",
       "      <td>Amanda</td>\n",
       "      <td>7</td>\n",
       "    </tr>\n",
       "  </tbody>\n",
       "</table>\n",
       "</div>"
      ],
      "text/plain": [
       "     name  temperature\n",
       "0  Maxine           23\n",
       "1   James           32\n",
       "2  Amanda            7"
      ]
     },
     "execution_count": 59,
     "metadata": {},
     "output_type": "execute_result"
    }
   ],
   "source": [
    "# 2. [pandas DataFrames] Perform the following tasks with pandas DataFrames:\n",
    "# a. Create a DataFrame named temperatures from a dictionary of three temperature\n",
    "# readings each for 'Maxine', 'James' and 'Amanda'.\n",
    "temp={'Maxine': 23,\n",
    "      'James': 32,\n",
    "      'Amanda': 7}\n",
    "df=pd.DataFrame(temp.items(),columns=['name', 'temperature'])\n",
    "df"
   ]
  },
  {
   "cell_type": "code",
   "execution_count": 64,
   "id": "1aa7c9f9",
   "metadata": {},
   "outputs": [
    {
     "data": {
      "text/html": [
       "<div>\n",
       "<style scoped>\n",
       "    .dataframe tbody tr th:only-of-type {\n",
       "        vertical-align: middle;\n",
       "    }\n",
       "\n",
       "    .dataframe tbody tr th {\n",
       "        vertical-align: top;\n",
       "    }\n",
       "\n",
       "    .dataframe thead th {\n",
       "        text-align: right;\n",
       "    }\n",
       "</style>\n",
       "<table border=\"1\" class=\"dataframe\">\n",
       "  <thead>\n",
       "    <tr style=\"text-align: right;\">\n",
       "      <th></th>\n",
       "      <th>name</th>\n",
       "      <th>temperature</th>\n",
       "    </tr>\n",
       "  </thead>\n",
       "  <tbody>\n",
       "    <tr>\n",
       "      <th>Morning</th>\n",
       "      <td>Maxine</td>\n",
       "      <td>23</td>\n",
       "    </tr>\n",
       "    <tr>\n",
       "      <th>Afternoon</th>\n",
       "      <td>James</td>\n",
       "      <td>32</td>\n",
       "    </tr>\n",
       "    <tr>\n",
       "      <th>Evening</th>\n",
       "      <td>Amanda</td>\n",
       "      <td>7</td>\n",
       "    </tr>\n",
       "  </tbody>\n",
       "</table>\n",
       "</div>"
      ],
      "text/plain": [
       "             name  temperature\n",
       "Morning    Maxine           23\n",
       "Afternoon   James           32\n",
       "Evening    Amanda            7"
      ]
     },
     "execution_count": 64,
     "metadata": {},
     "output_type": "execute_result"
    }
   ],
   "source": [
    "# b. Recreate the DataFrame temperatures in Part (a) with custom indices using the index\n",
    "# keyword argument and a list containing 'Morning', 'Afternoon’ and 'Evening'.\n",
    "df=pd.DataFrame(temp.items(),columns=['name', 'temperature'], index=['Morning', 'Afternoon', 'Evening'])\n",
    "df"
   ]
  },
  {
   "cell_type": "code",
   "execution_count": 68,
   "id": "97d7db20",
   "metadata": {},
   "outputs": [
    {
     "data": {
      "text/plain": [
       "Morning    23\n",
       "Name: temperature, dtype: int64"
      ]
     },
     "execution_count": 68,
     "metadata": {},
     "output_type": "execute_result"
    }
   ],
   "source": [
    "# c. Select from temperatures the column of temperature readings for 'Maxine'.\n",
    "df[df['name']=='Maxine']['temperature']\n"
   ]
  },
  {
   "cell_type": "code",
   "execution_count": 70,
   "id": "5dd7d224",
   "metadata": {},
   "outputs": [
    {
     "data": {
      "text/plain": [
       "name           Maxine\n",
       "temperature        23\n",
       "Name: Morning, dtype: object"
      ]
     },
     "execution_count": 70,
     "metadata": {},
     "output_type": "execute_result"
    }
   ],
   "source": [
    "# d. Select from temperatures the row of 'Morning' temperature readings.\n",
    "df.loc['Morning']"
   ]
  },
  {
   "cell_type": "code",
   "execution_count": 72,
   "id": "15702336",
   "metadata": {},
   "outputs": [
    {
     "data": {
      "text/html": [
       "<div>\n",
       "<style scoped>\n",
       "    .dataframe tbody tr th:only-of-type {\n",
       "        vertical-align: middle;\n",
       "    }\n",
       "\n",
       "    .dataframe tbody tr th {\n",
       "        vertical-align: top;\n",
       "    }\n",
       "\n",
       "    .dataframe thead th {\n",
       "        text-align: right;\n",
       "    }\n",
       "</style>\n",
       "<table border=\"1\" class=\"dataframe\">\n",
       "  <thead>\n",
       "    <tr style=\"text-align: right;\">\n",
       "      <th></th>\n",
       "      <th>name</th>\n",
       "      <th>temperature</th>\n",
       "    </tr>\n",
       "  </thead>\n",
       "  <tbody>\n",
       "    <tr>\n",
       "      <th>Morning</th>\n",
       "      <td>Maxine</td>\n",
       "      <td>23</td>\n",
       "    </tr>\n",
       "    <tr>\n",
       "      <th>Evening</th>\n",
       "      <td>Amanda</td>\n",
       "      <td>7</td>\n",
       "    </tr>\n",
       "  </tbody>\n",
       "</table>\n",
       "</div>"
      ],
      "text/plain": [
       "           name  temperature\n",
       "Morning  Maxine           23\n",
       "Evening  Amanda            7"
      ]
     },
     "execution_count": 72,
     "metadata": {},
     "output_type": "execute_result"
    }
   ],
   "source": [
    "# e. Select from temperatures the rows for 'Morning' and 'Evening' temperature\n",
    "# readings.\n",
    "df.loc[['Morning', 'Evening']]"
   ]
  },
  {
   "cell_type": "code",
   "execution_count": 80,
   "id": "9ed3a1b4",
   "metadata": {},
   "outputs": [
    {
     "data": {
      "text/plain": [
       "Morning    23\n",
       "Evening     7\n",
       "Name: temperature, dtype: int64"
      ]
     },
     "execution_count": 80,
     "metadata": {},
     "output_type": "execute_result"
    }
   ],
   "source": [
    "# f. Select from temperatures the columns of temperature readings for 'Amanda' and\n",
    "# 'Maxine'.\n",
    "df[(df['name']=='Maxine') | (df['name']=='Amanda')]['temperature']\n",
    "\n"
   ]
  },
  {
   "cell_type": "code",
   "execution_count": 93,
   "id": "876314f9",
   "metadata": {},
   "outputs": [
    {
     "data": {
      "text/html": [
       "<div>\n",
       "<style scoped>\n",
       "    .dataframe tbody tr th:only-of-type {\n",
       "        vertical-align: middle;\n",
       "    }\n",
       "\n",
       "    .dataframe tbody tr th {\n",
       "        vertical-align: top;\n",
       "    }\n",
       "\n",
       "    .dataframe thead th {\n",
       "        text-align: right;\n",
       "    }\n",
       "</style>\n",
       "<table border=\"1\" class=\"dataframe\">\n",
       "  <thead>\n",
       "    <tr style=\"text-align: right;\">\n",
       "      <th></th>\n",
       "      <th>name</th>\n",
       "      <th>temperature</th>\n",
       "    </tr>\n",
       "  </thead>\n",
       "  <tbody>\n",
       "    <tr>\n",
       "      <th>Morning</th>\n",
       "      <td>Maxine</td>\n",
       "      <td>23</td>\n",
       "    </tr>\n",
       "  </tbody>\n",
       "</table>\n",
       "</div>"
      ],
      "text/plain": [
       "           name  temperature\n",
       "Morning  Maxine           23"
      ]
     },
     "execution_count": 93,
     "metadata": {},
     "output_type": "execute_result"
    }
   ],
   "source": [
    "# g. Select from temperatures the elements for 'Amanda' and 'Maxine' in the 'Morning'\n",
    "# and 'Afternoon'.\n",
    "df[(df['name']=='Maxine') | (df['name']=='Amanda')].loc[['Morning', 'Afternoon']] ## not working because 'afternoon' is for james.\n"
   ]
  }
 ],
 "metadata": {
  "kernelspec": {
   "display_name": "Python 3 (ipykernel)",
   "language": "python",
   "name": "python3"
  },
  "language_info": {
   "codemirror_mode": {
    "name": "ipython",
    "version": 3
   },
   "file_extension": ".py",
   "mimetype": "text/x-python",
   "name": "python",
   "nbconvert_exporter": "python",
   "pygments_lexer": "ipython3",
   "version": "3.8.9"
  }
 },
 "nbformat": 4,
 "nbformat_minor": 5
}
