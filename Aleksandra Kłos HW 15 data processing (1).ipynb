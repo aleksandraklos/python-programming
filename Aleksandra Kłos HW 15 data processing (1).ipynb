{
 "cells": [
  {
   "cell_type": "code",
   "execution_count": 24,
   "id": "f11b477a",
   "metadata": {},
   "outputs": [],
   "source": [
    "import pandas as pd\n",
    "import numpy as np"
   ]
  },
  {
   "cell_type": "code",
   "execution_count": 25,
   "id": "2adfe5da",
   "metadata": {},
   "outputs": [],
   "source": [
    "# 1. [Data grouping and aggregation] Consider the following data frame:\n",
    "# df = pd.DataFrame([('bird', 'Falconiformes', 389.0),\n",
    "# ('bird', 'Psittaciformes', 24.0),\n",
    "# ('mammal', 'Carnivora', 80.2),\n",
    "# ('mammal', 'Primates', np.nan),\n",
    "# ('mammal', 'Carnivora', 58)],\n",
    "# index=['falcon', 'parrot', 'lion', 'monkey', 'leopard'],\n",
    "# columns=('class', 'order', 'max_speed'))\n",
    "\n",
    "# Group the animals according to their class, but do not use pandas grouping facilities. \n",
    "\n",
    "#Think\n",
    "# about how you could achieve this task using standard Python data structures and functions\n",
    "# iterrows() or itertuples(), defined for a pandas DataFrame. \n",
    "#Calculate the group\n",
    "# sums for column max_speed. Compare your result afterwards to the output of the\n",
    "# groupby() and sum() functions.\n",
    "# NOTE: iterating over the rows of a data frame is quite inefficient and should normally be\n",
    "# avoided. However, for this task, we will temporarily suppress any performance\n",
    "# considerations for the sake of getting an idea of the functionality behind pandas grouping\n",
    "# and aggregation facilities."
   ]
  },
  {
   "cell_type": "code",
   "execution_count": 26,
   "id": "85d330bf",
   "metadata": {},
   "outputs": [],
   "source": [
    "df = pd.DataFrame([('bird', 'Falconiformes', 389.0),\n",
    "('bird', 'Psittaciformes', 24.0),\n",
    "('mammal', 'Carnivora', 80.2),\n",
    "('mammal', 'Primates', np.nan),\n",
    "('mammal', 'Carnivora', 58)],\n",
    "index=['falcon', 'parrot', 'lion', 'monkey', 'leopard'],\n",
    "columns=('class', 'order', 'max_speed'))"
   ]
  },
  {
   "cell_type": "code",
   "execution_count": 27,
   "id": "104e5cd2",
   "metadata": {},
   "outputs": [
    {
     "name": "stderr",
     "output_type": "stream",
     "text": [
      "/var/folders/nq/7bw179mj7td19spy5w5jmmdh0000gn/T/ipykernel_10637/4067978590.py:1: FutureWarning: The default value of numeric_only in DataFrameGroupBy.sum is deprecated. In a future version, numeric_only will default to False. Either specify numeric_only or select only columns which should be valid for the function.\n",
      "  df.groupby('class').sum()\n"
     ]
    },
    {
     "data": {
      "text/html": [
       "<div>\n",
       "<style scoped>\n",
       "    .dataframe tbody tr th:only-of-type {\n",
       "        vertical-align: middle;\n",
       "    }\n",
       "\n",
       "    .dataframe tbody tr th {\n",
       "        vertical-align: top;\n",
       "    }\n",
       "\n",
       "    .dataframe thead th {\n",
       "        text-align: right;\n",
       "    }\n",
       "</style>\n",
       "<table border=\"1\" class=\"dataframe\">\n",
       "  <thead>\n",
       "    <tr style=\"text-align: right;\">\n",
       "      <th></th>\n",
       "      <th>max_speed</th>\n",
       "    </tr>\n",
       "    <tr>\n",
       "      <th>class</th>\n",
       "      <th></th>\n",
       "    </tr>\n",
       "  </thead>\n",
       "  <tbody>\n",
       "    <tr>\n",
       "      <th>bird</th>\n",
       "      <td>413.0</td>\n",
       "    </tr>\n",
       "    <tr>\n",
       "      <th>mammal</th>\n",
       "      <td>138.2</td>\n",
       "    </tr>\n",
       "  </tbody>\n",
       "</table>\n",
       "</div>"
      ],
      "text/plain": [
       "        max_speed\n",
       "class            \n",
       "bird        413.0\n",
       "mammal      138.2"
      ]
     },
     "execution_count": 27,
     "metadata": {},
     "output_type": "execute_result"
    }
   ],
   "source": [
    "df.groupby('class').sum()"
   ]
  },
  {
   "cell_type": "code",
   "execution_count": 28,
   "id": "0908d2cd",
   "metadata": {},
   "outputs": [
    {
     "name": "stdout",
     "output_type": "stream",
     "text": [
      "bird 413.0\n",
      "mammal 138.2\n"
     ]
    }
   ],
   "source": [
    "for i in list(df['class'].unique()):\n",
    "    d=[]\n",
    "    for column, row in df.iterrows():\n",
    "        if row['class']==i:\n",
    "            d.append(row['max_speed'])\n",
    "    print(i, np.nansum(d))\n",
    "            "
   ]
  },
  {
   "cell_type": "code",
   "execution_count": null,
   "id": "020b2a11",
   "metadata": {},
   "outputs": [],
   "source": [
    "# 2. [Duplicate detection] Let us assume that a function like\n",
    "# pandas.DataFrame.duplicated() was not available. How you would proceed to\n",
    "# “manually” detect duplicates in a data frame (or table-based data in general). The focus\n",
    "# should be on whole rows or at least multiple columns. Give a technical description of how a\n",
    "# Python implementation of your approach might look (what are the main steps, which data\n",
    "# structures are needed, etc.).\n",
    "# NOTE: No implementation is required, it is just the idea and its description that counts.v"
   ]
  },
  {
   "cell_type": "code",
   "execution_count": 29,
   "id": "d086f99a",
   "metadata": {},
   "outputs": [
    {
     "ename": "SyntaxError",
     "evalue": "invalid syntax (1232439737.py, line 2)",
     "output_type": "error",
     "traceback": [
      "\u001b[0;36m  Cell \u001b[0;32mIn [29], line 2\u001b[0;36m\u001b[0m\n\u001b[0;31m    if\u001b[0m\n\u001b[0m       ^\u001b[0m\n\u001b[0;31mSyntaxError\u001b[0m\u001b[0;31m:\u001b[0m invalid syntax\n"
     ]
    }
   ],
   "source": [
    "for i, row in df.iterrows():\n",
    "    if "
   ]
  },
  {
   "cell_type": "code",
   "execution_count": 30,
   "id": "f9916daa",
   "metadata": {},
   "outputs": [
    {
     "data": {
      "text/html": [
       "<div style=\"width:100%;\"><div style=\"position:relative;width:100%;height:0;padding-bottom:60%;\"><span style=\"color:#565656\">Make this Notebook Trusted to load map: File -> Trust Notebook</span><iframe srcdoc=\"&lt;!DOCTYPE html&gt;\n",
       "&lt;html&gt;\n",
       "&lt;head&gt;\n",
       "    \n",
       "    &lt;meta http-equiv=&quot;content-type&quot; content=&quot;text/html; charset=UTF-8&quot; /&gt;\n",
       "    \n",
       "        &lt;script&gt;\n",
       "            L_NO_TOUCH = false;\n",
       "            L_DISABLE_3D = false;\n",
       "        &lt;/script&gt;\n",
       "    \n",
       "    &lt;style&gt;html, body {width: 100%;height: 100%;margin: 0;padding: 0;}&lt;/style&gt;\n",
       "    &lt;style&gt;#map {position:absolute;top:0;bottom:0;right:0;left:0;}&lt;/style&gt;\n",
       "    &lt;script src=&quot;https://cdn.jsdelivr.net/npm/leaflet@1.9.3/dist/leaflet.js&quot;&gt;&lt;/script&gt;\n",
       "    &lt;script src=&quot;https://code.jquery.com/jquery-1.12.4.min.js&quot;&gt;&lt;/script&gt;\n",
       "    &lt;script src=&quot;https://cdn.jsdelivr.net/npm/bootstrap@5.2.2/dist/js/bootstrap.bundle.min.js&quot;&gt;&lt;/script&gt;\n",
       "    &lt;script src=&quot;https://cdnjs.cloudflare.com/ajax/libs/Leaflet.awesome-markers/2.0.2/leaflet.awesome-markers.js&quot;&gt;&lt;/script&gt;\n",
       "    &lt;link rel=&quot;stylesheet&quot; href=&quot;https://cdn.jsdelivr.net/npm/leaflet@1.9.3/dist/leaflet.css&quot;/&gt;\n",
       "    &lt;link rel=&quot;stylesheet&quot; href=&quot;https://cdn.jsdelivr.net/npm/bootstrap@5.2.2/dist/css/bootstrap.min.css&quot;/&gt;\n",
       "    &lt;link rel=&quot;stylesheet&quot; href=&quot;https://netdna.bootstrapcdn.com/bootstrap/3.0.0/css/bootstrap.min.css&quot;/&gt;\n",
       "    &lt;link rel=&quot;stylesheet&quot; href=&quot;https://cdn.jsdelivr.net/npm/@fortawesome/fontawesome-free@6.2.0/css/all.min.css&quot;/&gt;\n",
       "    &lt;link rel=&quot;stylesheet&quot; href=&quot;https://cdnjs.cloudflare.com/ajax/libs/Leaflet.awesome-markers/2.0.2/leaflet.awesome-markers.css&quot;/&gt;\n",
       "    &lt;link rel=&quot;stylesheet&quot; href=&quot;https://cdn.jsdelivr.net/gh/python-visualization/folium/folium/templates/leaflet.awesome.rotate.min.css&quot;/&gt;\n",
       "    \n",
       "            &lt;meta name=&quot;viewport&quot; content=&quot;width=device-width,\n",
       "                initial-scale=1.0, maximum-scale=1.0, user-scalable=no&quot; /&gt;\n",
       "            &lt;style&gt;\n",
       "                #map_61406bf19c95532ea2582abed7208095 {\n",
       "                    position: relative;\n",
       "                    width: 100.0%;\n",
       "                    height: 100.0%;\n",
       "                    left: 0.0%;\n",
       "                    top: 0.0%;\n",
       "                }\n",
       "                .leaflet-container { font-size: 1rem; }\n",
       "            &lt;/style&gt;\n",
       "        \n",
       "&lt;/head&gt;\n",
       "&lt;body&gt;\n",
       "    \n",
       "    \n",
       "            &lt;div class=&quot;folium-map&quot; id=&quot;map_61406bf19c95532ea2582abed7208095&quot; &gt;&lt;/div&gt;\n",
       "        \n",
       "&lt;/body&gt;\n",
       "&lt;script&gt;\n",
       "    \n",
       "    \n",
       "            var map_61406bf19c95532ea2582abed7208095 = L.map(\n",
       "                &quot;map_61406bf19c95532ea2582abed7208095&quot;,\n",
       "                {\n",
       "                    center: [41.0, 29.0],\n",
       "                    crs: L.CRS.EPSG3857,\n",
       "                    zoom: 10,\n",
       "                    zoomControl: true,\n",
       "                    preferCanvas: false,\n",
       "                }\n",
       "            );\n",
       "\n",
       "            \n",
       "\n",
       "        \n",
       "    \n",
       "            var tile_layer_90f9808dc58ca24062b4feea98d73081 = L.tileLayer(\n",
       "                &quot;https://{s}.tile.openstreetmap.org/{z}/{x}/{y}.png&quot;,\n",
       "                {&quot;attribution&quot;: &quot;Data by \\u0026copy; \\u003ca target=\\&quot;_blank\\&quot; href=\\&quot;http://openstreetmap.org\\&quot;\\u003eOpenStreetMap\\u003c/a\\u003e, under \\u003ca target=\\&quot;_blank\\&quot; href=\\&quot;http://www.openstreetmap.org/copyright\\&quot;\\u003eODbL\\u003c/a\\u003e.&quot;, &quot;detectRetina&quot;: false, &quot;maxNativeZoom&quot;: 18, &quot;maxZoom&quot;: 18, &quot;minZoom&quot;: 0, &quot;noWrap&quot;: false, &quot;opacity&quot;: 1, &quot;subdomains&quot;: &quot;abc&quot;, &quot;tms&quot;: false}\n",
       "            ).addTo(map_61406bf19c95532ea2582abed7208095);\n",
       "        \n",
       "&lt;/script&gt;\n",
       "&lt;/html&gt;\" style=\"position:absolute;width:100%;height:100%;left:0;top:0;border:none !important;\" allowfullscreen webkitallowfullscreen mozallowfullscreen></iframe></div></div>"
      ],
      "text/plain": [
       "<folium.folium.Map at 0x10993b970>"
      ]
     },
     "execution_count": 30,
     "metadata": {},
     "output_type": "execute_result"
    }
   ],
   "source": [
    "import folium \n",
    "folium.Map(location=[41,29])\n"
   ]
  },
  {
   "cell_type": "code",
   "execution_count": null,
   "id": "136fb3db",
   "metadata": {},
   "outputs": [],
   "source": []
  }
 ],
 "metadata": {
  "kernelspec": {
   "display_name": "Python 3 (ipykernel)",
   "language": "python",
   "name": "python3"
  },
  "language_info": {
   "codemirror_mode": {
    "name": "ipython",
    "version": 3
   },
   "file_extension": ".py",
   "mimetype": "text/x-python",
   "name": "python",
   "nbconvert_exporter": "python",
   "pygments_lexer": "ipython3",
   "version": "3.8.9"
  }
 },
 "nbformat": 4,
 "nbformat_minor": 5
}
