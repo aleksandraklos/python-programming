{
 "cells": [
  {
   "cell_type": "code",
   "execution_count": null,
   "id": "9f0746cc",
   "metadata": {},
   "outputs": [],
   "source": [
    "# 1.. [Factorials] Factorial calculations are common in probability. The factorial of a nonnegative\n",
    "# integer n is written n! (pronounced “n factorial”) and is defined as follows:\n",
    "# n! = · ( − 1 · ( − 2 · . · 1 n n ) n ) ..\n",
    "# for values of n greater than or equal to 1, with 0! defined to be 1.\n",
    "# Write a Python program based on a loop that computes the factorial for a given n and\n",
    "# displays the result.\n",
    "# Test your program at least for , , and . n = 5 0 n = 1 n = 20"
   ]
  },
  {
   "cell_type": "code",
   "execution_count": 14,
   "id": "e09c93c0",
   "metadata": {},
   "outputs": [
    {
     "name": "stdout",
     "output_type": "stream",
     "text": [
      "factorial of 20 is 2432902008176640000\n"
     ]
    }
   ],
   "source": [
    "n=20\n",
    "def fact(n):\n",
    "    factorial=1\n",
    "    for i in range(1,n+1):\n",
    "        factorial=factorial*i\n",
    "    print(\"factorial of \" + str(n) +\" is \" + str(factorial))\n",
    "fact(n)"
   ]
  },
  {
   "cell_type": "code",
   "execution_count": null,
   "id": "36be05d5",
   "metadata": {},
   "outputs": [],
   "source": [
    "# 2. [Summary statistics] Write a Python program based on a loop that computes minimum,\n",
    "# maximum and average for a given list of numbers.\n",
    "# Test your program on the list [3, 4, 9, 10, 13, 20, 17, 29, 22, 19]."
   ]
  },
  {
   "cell_type": "code",
   "execution_count": 37,
   "id": "66957723",
   "metadata": {},
   "outputs": [],
   "source": [
    "def summary_statistics(alist):\n",
    "    total=0\n",
    "    maximum=alist[0]\n",
    "    minimum=alist[0]\n",
    "    for i in range(0,len(alist)):\n",
    "        total+=alist[i]\n",
    "        average=total/len(alist)\n",
    "        if alist[i]>maximum:\n",
    "            maximum=alist[i]\n",
    "        elif alist[i]<minimum:\n",
    "            minimum=alist[i]\n",
    "    print(f\"average of list: {average}, maximum of list: {maximum}, minimum of list: {minimum}\")"
   ]
  },
  {
   "cell_type": "code",
   "execution_count": 1,
   "id": "c9c807dc",
   "metadata": {},
   "outputs": [
    {
     "ename": "NameError",
     "evalue": "name 'summary_statistics' is not defined",
     "output_type": "error",
     "traceback": [
      "\u001b[0;31m---------------------------------------------------------------------------\u001b[0m",
      "\u001b[0;31mNameError\u001b[0m                                 Traceback (most recent call last)",
      "Cell \u001b[0;32mIn [1], line 2\u001b[0m\n\u001b[1;32m      1\u001b[0m alist\u001b[38;5;241m=\u001b[39m[\u001b[38;5;241m3\u001b[39m, \u001b[38;5;241m4\u001b[39m, \u001b[38;5;241m9\u001b[39m, \u001b[38;5;241m10\u001b[39m, \u001b[38;5;241m13\u001b[39m, \u001b[38;5;241m20\u001b[39m, \u001b[38;5;241m17\u001b[39m, \u001b[38;5;241m22\u001b[39m, \u001b[38;5;241m29\u001b[39m, \u001b[38;5;241m19\u001b[39m]\n\u001b[0;32m----> 2\u001b[0m summary_statistics(alist)\n",
      "\u001b[0;31mNameError\u001b[0m: name 'summary_statistics' is not defined"
     ]
    }
   ],
   "source": [
    "alist=[3, 4, 9, 10, 13, 20, 17, 22, 29, 19]\n",
    "summary_statistics(alist)"
   ]
  },
  {
   "cell_type": "code",
   "execution_count": null,
   "id": "0f91d267",
   "metadata": {},
   "outputs": [],
   "source": [
    "# 3. [Bonus task: two largest values] Write a Python program based on a loop that determines\n",
    "# the two largest values of a given list. Use the list from the previous assignment (summary\n",
    "# statistics) to test your program.\n",
    "# Notes:\n",
    "# a. Use only one single loop for solving the problem.\n",
    "# b. Assume that the list is unsorted. In other words, sorting the list beforehand is not\n",
    "# permitted.\n",
    "# c. Do not modify the list during processing."
   ]
  },
  {
   "cell_type": "code",
   "execution_count": 8,
   "id": "bd92192b",
   "metadata": {},
   "outputs": [],
   "source": [
    "alist=[29, 4, 9, 10, 13, 3, 17, 22, 20, 19]\n",
    "\n",
    "def two_largest(alist):\n",
    "    \n",
    "    print(f\"Two largest values of this list are: {keep_vector}\")\n",
    "\n",
    "        "
   ]
  },
  {
   "cell_type": "code",
   "execution_count": 9,
   "id": "a4901dc0",
   "metadata": {},
   "outputs": [
    {
     "name": "stdout",
     "output_type": "stream",
     "text": [
      "Two largest values of this list are: [3, 22]\n"
     ]
    }
   ],
   "source": [
    "two_largest(alist)"
   ]
  },
  {
   "cell_type": "code",
   "execution_count": null,
   "id": "559a455a",
   "metadata": {},
   "outputs": [],
   "source": [
    "# 4. [ASCII bar chart] A very basic way of visualizing data is to use ASCII characters, like ‘*’, ‘+’, or\n",
    "# ‘#’, for “drawing” text-based bar charts. For example, a horizontal bar chart for the list\n",
    "# [4, 8, 6] might look as follows:\n",
    "# ####\n",
    "# ########\n",
    "# ######\n",
    "# Write a Python program that draws such horizontal bar chart for arbitrary lists of integer\n",
    "# numbers. Test your program on the list from the assignment on summary statistics!"
   ]
  },
  {
   "cell_type": "code",
   "execution_count": 63,
   "id": "1d617a00",
   "metadata": {},
   "outputs": [],
   "source": [
    "def horizontal_barchart(alist):\n",
    "    for i in range(0, len(alist)):\n",
    "        print(\"#\"*alist[i], end='\\n')"
   ]
  },
  {
   "cell_type": "code",
   "execution_count": 64,
   "id": "20d695eb",
   "metadata": {},
   "outputs": [
    {
     "name": "stdout",
     "output_type": "stream",
     "text": [
      "###\n",
      "####\n",
      "#########\n",
      "##########\n",
      "#############\n",
      "####################\n",
      "#################\n",
      "#############################\n",
      "######################\n",
      "###################\n"
     ]
    }
   ],
   "source": [
    "horizontal_barchart(alist)"
   ]
  },
  {
   "cell_type": "code",
   "execution_count": null,
   "id": "727aacea",
   "metadata": {},
   "outputs": [],
   "source": []
  }
 ],
 "metadata": {
  "kernelspec": {
   "display_name": "Python 3 (ipykernel)",
   "language": "python",
   "name": "python3"
  },
  "language_info": {
   "codemirror_mode": {
    "name": "ipython",
    "version": 3
   },
   "file_extension": ".py",
   "mimetype": "text/x-python",
   "name": "python",
   "nbconvert_exporter": "python",
   "pygments_lexer": "ipython3",
   "version": "3.8.9"
  }
 },
 "nbformat": 4,
 "nbformat_minor": 5
}
