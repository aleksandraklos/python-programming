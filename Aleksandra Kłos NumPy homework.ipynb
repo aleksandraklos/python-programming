{
 "cells": [
  {
   "cell_type": "code",
   "execution_count": 2,
   "id": "fe284652",
   "metadata": {},
   "outputs": [],
   "source": [
    "import numpy as np"
   ]
  },
  {
   "cell_type": "code",
   "execution_count": 233,
   "id": "6b793675",
   "metadata": {},
   "outputs": [],
   "source": [
    "# [Array stacking] Assume that the two stacking methods vstack() and hstack() were\n",
    "# not available. Write a Python program using NumPy that allows to concatenate two\n",
    "# two-dimensional arrays, each with at least 2 rows and 2 columns, either horizontally or\n",
    "# vertically. Your solution should solely be based on NumPy array creation facilities and slicing\n",
    "# operations.\n",
    "# Hint: use an intermediate (buffer) array for performing the concatenation!"
   ]
  },
  {
   "cell_type": "code",
   "execution_count": 3,
   "id": "d0641f0b",
   "metadata": {},
   "outputs": [],
   "source": [
    "numbers = np.array([[10, 20, 30],\n",
    "                    [40, 50, 60]])\n",
    "grades=np.array([[1, 2, 3],\n",
    "                    [4, 5, 6]])"
   ]
  },
  {
   "cell_type": "code",
   "execution_count": 4,
   "id": "287ed79e",
   "metadata": {},
   "outputs": [],
   "source": [
    "def my_hstack(numbers, grades):\n",
    "    mid = np.array([i for i in zip(numbers, grades)])\n",
    "    mid.resize(grades.shape[0], grades.shape[1]*2)\n",
    "    return mid"
   ]
  },
  {
   "cell_type": "code",
   "execution_count": 5,
   "id": "873980df",
   "metadata": {},
   "outputs": [],
   "source": [
    "def my_vstack(numbers, grades):\n",
    "    return np.concatenate((numbers, grades))"
   ]
  },
  {
   "cell_type": "code",
   "execution_count": 6,
   "id": "5b9946ef",
   "metadata": {},
   "outputs": [
    {
     "data": {
      "text/plain": [
       "array([[10, 20, 30,  1,  2,  3],\n",
       "       [40, 50, 60,  4,  5,  6]])"
      ]
     },
     "execution_count": 6,
     "metadata": {},
     "output_type": "execute_result"
    }
   ],
   "source": [
    "my_hstack(numbers, grades)"
   ]
  },
  {
   "cell_type": "code",
   "execution_count": 7,
   "id": "fcd9970d",
   "metadata": {},
   "outputs": [
    {
     "data": {
      "text/plain": [
       "array([[10, 20, 30],\n",
       "       [40, 50, 60],\n",
       "       [ 1,  2,  3],\n",
       "       [ 4,  5,  6]])"
      ]
     },
     "execution_count": 7,
     "metadata": {},
     "output_type": "execute_result"
    }
   ],
   "source": [
    "my_vstack(numbers, grades)"
   ]
  },
  {
   "cell_type": "code",
   "execution_count": 243,
   "id": "40137b78",
   "metadata": {},
   "outputs": [],
   "source": [
    "# 2. [Array statistics] Write a Python program that takes a NumPy integer array of arbitrary shape\n",
    "# and determines the most frequent value (=mode) in the whole array! This should be\n",
    "# accomplished without the use of any extra libraries (except for numpy). Test your program\n",
    "# with a two-dimensional array that contains at least one value twice."
   ]
  },
  {
   "cell_type": "code",
   "execution_count": 244,
   "id": "995a9dfb",
   "metadata": {},
   "outputs": [],
   "source": [
    "numbers = np.array([[10, 20, 30, 30, 5],\n",
    "                    [40, 50, 60,40, 40]]).flatten()"
   ]
  },
  {
   "cell_type": "code",
   "execution_count": 245,
   "id": "7421802b",
   "metadata": {},
   "outputs": [],
   "source": [
    "def mode(numbers):\n",
    "    valcounts= np.unique(numbers.flatten(), return_counts=True)\n",
    "    values=valcounts[0]\n",
    "    counts=valcounts[1]\n",
    "    index = np.argmax(counts)\n",
    "    return values[index]"
   ]
  },
  {
   "cell_type": "code",
   "execution_count": 246,
   "id": "f7db087c",
   "metadata": {},
   "outputs": [
    {
     "data": {
      "text/plain": [
       "40"
      ]
     },
     "execution_count": 246,
     "metadata": {},
     "output_type": "execute_result"
    }
   ],
   "source": [
    "mode(numbers)"
   ]
  },
  {
   "cell_type": "code",
   "execution_count": 247,
   "id": "2e7e36bf",
   "metadata": {},
   "outputs": [],
   "source": [
    "# 3. [Bonus task: matrix multiplication] Give an implementation of “true” matrix multiplication in\n",
    "# Python, based on NumPy arrays and loops only. A description of matrix multiplication can be\n",
    "# found, for example, at\n",
    "# https://www.mathsisfun.com/algebra/matrix-multiplying.html\n",
    "# or, if you like it more formal:\n",
    "# https://mathworld.wolfram.com/MatrixMultiplication.html\n",
    "# Verify your result using function numpy.matmul()!\n",
    "# Hint: use the shape attribute of the NumPy ndarray to create the required index\n",
    "# ranges!\n",
    "# Some helpful links to the numpy documentation:\n",
    "# https://numpy.org/doc/stable/reference/generated/numpy.matmul.html\n",
    "# https://numpy.org/doc/stable/reference/generated/numpy.ndarray.shape.html"
   ]
  },
  {
   "cell_type": "code",
   "execution_count": 248,
   "id": "9527ce18",
   "metadata": {},
   "outputs": [],
   "source": [
    "num1=np.array([[1, 2, 3],\n",
    "                    [4, 5, 6]])\n",
    "num2=np.array([[1, 4], [2,5],\n",
    "                    [3, 6]])"
   ]
  },
  {
   "cell_type": "code",
   "execution_count": 249,
   "id": "6b11b6dc",
   "metadata": {},
   "outputs": [
    {
     "name": "stdout",
     "output_type": "stream",
     "text": [
      "[[14 32]\n",
      " [32 77]]\n"
     ]
    }
   ],
   "source": [
    "def matrixmult(x, y):\n",
    "    return np.array([sum(i*j) for i in x for j in y.T]).reshape(x.shape[0], y.shape[1])\n",
    "\n",
    "print(matrixmult(num1, num2))"
   ]
  },
  {
   "cell_type": "code",
   "execution_count": 250,
   "id": "5d425af8",
   "metadata": {},
   "outputs": [
    {
     "data": {
      "text/plain": [
       "array([[14, 32],\n",
       "       [32, 77]])"
      ]
     },
     "execution_count": 250,
     "metadata": {},
     "output_type": "execute_result"
    }
   ],
   "source": [
    "np.matmul(num1, num2)"
   ]
  }
 ],
 "metadata": {
  "kernelspec": {
   "display_name": "Python 3 (ipykernel)",
   "language": "python",
   "name": "python3"
  },
  "language_info": {
   "codemirror_mode": {
    "name": "ipython",
    "version": 3
   },
   "file_extension": ".py",
   "mimetype": "text/x-python",
   "name": "python",
   "nbconvert_exporter": "python",
   "pygments_lexer": "ipython3",
   "version": "3.8.9"
  }
 },
 "nbformat": 4,
 "nbformat_minor": 5
}
