{
 "cells": [
  {
   "cell_type": "code",
   "execution_count": null,
   "id": "1c44811f",
   "metadata": {},
   "outputs": [],
   "source": [
    "#1. Create a new Jupyter Notebook and rename it appropriately (your name, homework)\n",
    "#2. Create a text box and copy the homework assignment into it.\n",
    "#3. Do one operation for each arithmetic operator in the list on the slides, once with creating\n",
    "# variables, once without.\n",
    "# 4. Create three examples using multiple and different arithmetic operations to show how\n",
    "# parentheses can change the outcome of your calculation. Give an additional example of\n",
    "# redundant parentheses.\n",
    "# 5. When trying to divide by zero, what happens? Write your answer in a text box.\n",
    "# 6. When trying to use a variable not yet created, what happens? Write your answer in a text\n",
    "# box. "
   ]
  },
  {
   "cell_type": "code",
   "execution_count": 9,
   "id": "ba07fa15",
   "metadata": {},
   "outputs": [
    {
     "name": "stdout",
     "output_type": "stream",
     "text": [
      "12 12\n",
      "-82 35\n",
      "20 60\n",
      "32 27\n",
      "2 10\n",
      "10.0 13.333333333333334\n",
      "10 8\n"
     ]
    }
   ],
   "source": [
    "a=3\n",
    "b=9\n",
    "print(a+b, 3+9)\n",
    "\n",
    "c=90\n",
    "d=8\n",
    "print(d-c, 45-10)\n",
    "\n",
    "e=4\n",
    "f=5\n",
    "print(e*f, 60*1)\n",
    "\n",
    "\n",
    "g=2\n",
    "h=5\n",
    "print(g**h, 3**3)\n",
    "\n",
    "i=10\n",
    "j=4\n",
    "print(i%j, 100%30)\n",
    "\n",
    "k=30\n",
    "l=3\n",
    "print(k/l, 40/3)\n",
    "\n",
    "m=40\n",
    "n=4\n",
    "print(m//n, 50//6)\n"
   ]
  },
  {
   "cell_type": "code",
   "execution_count": 10,
   "id": "d4fa91e3",
   "metadata": {},
   "outputs": [
    {
     "ename": "ZeroDivisionError",
     "evalue": "division by zero",
     "output_type": "error",
     "traceback": [
      "\u001b[0;31m---------------------------------------------------------------------------\u001b[0m",
      "\u001b[0;31mZeroDivisionError\u001b[0m                         Traceback (most recent call last)",
      "Cell \u001b[0;32mIn [10], line 2\u001b[0m\n\u001b[1;32m      1\u001b[0m \u001b[38;5;66;03m#when trying to divide by zero\u001b[39;00m\n\u001b[0;32m----> 2\u001b[0m \u001b[38;5;241m100\u001b[39m\u001b[38;5;241m/\u001b[39m\u001b[38;5;241m0\u001b[39m\n",
      "\u001b[0;31mZeroDivisionError\u001b[0m: division by zero"
     ]
    }
   ],
   "source": [
    "#when trying to divide by zero an error \"division by zero\" appears \n",
    "100/0"
   ]
  },
  {
   "cell_type": "code",
   "execution_count": 12,
   "id": "8e6c60f3",
   "metadata": {},
   "outputs": [
    {
     "ename": "NameError",
     "evalue": "name 'mn' is not defined",
     "output_type": "error",
     "traceback": [
      "\u001b[0;31m---------------------------------------------------------------------------\u001b[0m",
      "\u001b[0;31mNameError\u001b[0m                                 Traceback (most recent call last)",
      "Cell \u001b[0;32mIn [12], line 2\u001b[0m\n\u001b[1;32m      1\u001b[0m \u001b[38;5;66;03m#when using a variable not yet created \u001b[39;00m\n\u001b[0;32m----> 2\u001b[0m mn\u001b[38;5;241m*\u001b[39m\u001b[38;5;241m20\u001b[39m\n",
      "\u001b[0;31mNameError\u001b[0m: name 'mn' is not defined"
     ]
    }
   ],
   "source": [
    "#when using a variable not yet created we get an error informing this variable (or if mor than one - the first one)\n",
    "#is not defined\n",
    "mn*20"
   ]
  },
  {
   "cell_type": "code",
   "execution_count": 21,
   "id": "c25e9ed2",
   "metadata": {},
   "outputs": [
    {
     "name": "stdout",
     "output_type": "stream",
     "text": [
      "54.0 36.666666666666664\n",
      "54.0 -96.0\n",
      "7 50\n",
      "1354 1354\n"
     ]
    }
   ],
   "source": [
    "#parentheses\n",
    "#first example\n",
    "print(10*3+40/2+4, 10*3+40/(2+4))\n",
    "\n",
    "#second example\n",
    "print(4**2*4-20/2, 4**2*(4-20/2))\n",
    "\n",
    "#third example\n",
    "print((56-3)*20%9, 56-3*20%9)\n",
    "\n",
    "#additional example for redundant parentheses\n",
    "print(2**(3**2)*2+330, 2**3**2*2+330)"
   ]
  },
  {
   "cell_type": "code",
   "execution_count": null,
   "id": "823c1117",
   "metadata": {},
   "outputs": [],
   "source": []
  }
 ],
 "metadata": {
  "kernelspec": {
   "display_name": "Python 3 (ipykernel)",
   "language": "python",
   "name": "python3"
  },
  "language_info": {
   "codemirror_mode": {
    "name": "ipython",
    "version": 3
   },
   "file_extension": ".py",
   "mimetype": "text/x-python",
   "name": "python",
   "nbconvert_exporter": "python",
   "pygments_lexer": "ipython3",
   "version": "3.8.9"
  }
 },
 "nbformat": 4,
 "nbformat_minor": 5
}
