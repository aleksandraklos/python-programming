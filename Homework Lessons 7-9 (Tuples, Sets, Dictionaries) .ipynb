{
 "cells": [
  {
   "cell_type": "code",
   "execution_count": null,
   "id": "dcd03733",
   "metadata": {},
   "outputs": [],
   "source": [
    "# 1. [Zipping iterables] The Python built-in function zip serves the purpose of iterating over\n",
    "# multiple iterables at the same time while creating tuples that contain the elements at the\n",
    "# same index in each of those iterables. Take for example the two lists\n",
    "# names = ['Bob', 'Sue', 'Amanda']\n",
    "# grades = [3.5, 4.0, 3.75]\n",
    "# Then the statement zip(names, grades) produces the tuples ('Bob', 3.5), ('Sue', 4.0)\n",
    "# and ('Amanda', 3.75).\n",
    "# Write a Python program that mimics the functionality of zip using loops and tuple creation\n",
    "# facilities. Note that this makes sense from a conceptual perspective in so far that something\n",
    "# like zip might not be directly available in another programming language."
   ]
  },
  {
   "cell_type": "code",
   "execution_count": 7,
   "id": "ec9a65ec",
   "metadata": {},
   "outputs": [],
   "source": [
    "names = ['Bob', 'Sue', 'Amanda']\n",
    "grades = [3.5, 4.0, 3.75]\n",
    "\n",
    "def zip_mimic(n,m):\n",
    "    i=0\n",
    "    while i<=len(n)-1 and i<=len(m)-1: #because zip() function will only iterate over the smallest list passed.\n",
    "        print((n[i], m[i]))\n",
    "        i+=1"
   ]
  },
  {
   "cell_type": "code",
   "execution_count": 8,
   "id": "b2440229",
   "metadata": {},
   "outputs": [
    {
     "name": "stdout",
     "output_type": "stream",
     "text": [
      "('Bob', 3.5)\n",
      "('Sue', 4.0)\n",
      "('Amanda', 3.75)\n"
     ]
    }
   ],
   "source": [
    "zip_mimic(names,grades)"
   ]
  },
  {
   "cell_type": "code",
   "execution_count": 9,
   "id": "74ce800d",
   "metadata": {},
   "outputs": [],
   "source": [
    "# 2. [Word equivalents of numbers] In check-writing systems, it’s crucial to prevent alteration of\n",
    "# check amounts. One common security method requires that the amount be written in\n",
    "# numbers and spelled out in words as well. Even if someone can alter the numerical amount\n",
    "# of the check, it’s tough to change the amount in words. Create a dictionary that maps\n",
    "# numbers to their corresponding word equivalents. Write a Python program that inputs a\n",
    "# numeric check amount that’s less than 1000 and uses the dictionary to write the word\n",
    "# equivalent of the amount. For example, the amount 112.43 should be written as\n",
    "# ONE HUNDRED TWELVE AND 43/100\n",
    "# Test your program with amounts from the intervals [0, 10[, [10, 100[, and [100, 1000[ !"
   ]
  },
  {
   "cell_type": "code",
   "execution_count": 10,
   "id": "173c4509",
   "metadata": {},
   "outputs": [],
   "source": [
    "numbers_words={\n",
    "    'one':1, 'two':2, 'three':3, 'four':4, 'five':5, 'six':6, 'seven':7, 'eight':8, 'nine':9, 'ten':10,\n",
    "    'eleven':11, 'twelve':12, 'thirteen':13,'fourteen':14, 'fifteen':15, 'sixteen':16, 'seventeen':17, 'eighteen':18,\n",
    "    'nineteen':19, 'twenty':20, 'thirty':30, 'fourty':40, 'fifty':50, 'sixty':60, 'seventy':70, 'eighty':80, 'ninety':90, \n",
    "    'zero':0\n",
    "}\n",
    "\n"
   ]
  },
  {
   "cell_type": "code",
   "execution_count": 42,
   "id": "1a3fd3f3",
   "metadata": {},
   "outputs": [],
   "source": [
    "def word_equiv(n):\n",
    "    try: \n",
    "        decimals=str(n).split('.')[1]  if n-int(n)>0 else \"\"\n",
    "        decimal_len=str(10**len(str(n).split('.')[1])) if n-int(n)>0 else \"\"\n",
    "        n_word=str(list(numbers_words.keys())[list(numbers_words.values()).index(int(n))])+(\" and \" if bool(decimals) else \"\") + str(decimals) + (\"/\" if bool(decimals) else \"\") + str(decimal_len)\n",
    "    except:\n",
    "        if len(str(n))<3:\n",
    "            units=list(numbers_words.keys())[list(numbers_words.values()).index(int(n%10))]\n",
    "            tens=list(numbers_words.keys())[list(numbers_words.values()).index(int(n%100 - n%10))]\n",
    "            n_word=tens+\" \"+units+(\" and \" if bool(decimals) else \"\") + decimals + (\"/\" if bool(decimals) else \"\") + decimal_len\n",
    "        else:\n",
    "            units=list(numbers_words.keys())[list(numbers_words.values()).index(int(n%10))] if n%10!=0 else \"\"\n",
    "            tens=list(numbers_words.keys())[list(numbers_words.values()).index(int(n%100 - n%10))] if (n%100 - n%10)!=0 else \"\"\n",
    "            hundreds=list(numbers_words.keys())[list(numbers_words.values()).index(n//100)] + ' hundred'\n",
    "            n_word=hundreds+(\" \" if bool(tens) else \"\")+tens+(\" \" if bool(units) else \"\")+units+(\" and \" if bool(decimals) else \"\") + decimals + (\"/\" if bool(decimals) else \"\") + decimal_len\n",
    "    return n_word.upper()"
   ]
  },
  {
   "cell_type": "code",
   "execution_count": 43,
   "id": "b017147f",
   "metadata": {},
   "outputs": [
    {
     "name": "stdout",
     "output_type": "stream",
     "text": [
      "ZERO\n",
      "THREE\n",
      "FOUR AND 5/10\n",
      "TWENTY\n",
      "SEVENTY SEVEN\n",
      "EIGHTY AND 45/100\n",
      "ONE HUNDRED\n",
      "FOUR HUNDRED\n",
      "ONE HUNDRED TWO AND 456/1000\n",
      "FIVE HUNDRED NINETY ONE\n",
      "NINE HUNDRED TWO\n"
     ]
    }
   ],
   "source": [
    "for i in [0, 3, 4.5, 20, 77, 80.45, 100, 400, 102.456, 591, 902]:\n",
    "    print(word_equiv(i))"
   ]
  },
  {
   "cell_type": "code",
   "execution_count": null,
   "id": "01469cc3",
   "metadata": {},
   "outputs": [],
   "source": [
    "# 3. [Character counts] Write a Python program that takes a sentence (most simply in English)\n",
    "# and determines the number of occurrences of each letter. You can ignore the case and\n",
    "# optionally all punctuation characters. Display a two-column table of the letters and their\n",
    "# counts with the letters in sorted order.\n",
    "# Additional requirements:\n",
    "# - use a loop and dictionary operations in your solution\n",
    "# - use a set operation to determine which letters of the alphabet were not in the original\n",
    "# string\n",
    "# Test your program using the following text, taken from Shakespeare’s Hamlet (Act 1, Scene 3,\n",
    "# monologue of Polonius):"
   ]
  },
  {
   "cell_type": "code",
   "execution_count": 45,
   "id": "45055646",
   "metadata": {},
   "outputs": [],
   "source": [
    "hamlet=\"\"\" Yet here, Laertes? Aboard, aboard, for shame!\n",
    "The wind sits in the shoulder of your sail,\n",
    "And you are stay’d for. There- my blessing with thee!\n",
    "And these few precepts in thy memory\n",
    "Look thou character. Give thy thoughts no tongue,\n",
    "Nor any unproportion’d thought his act.\n",
    "Be thou familiar, but by no means vulgar:\n",
    "Those friends thou hast, and their adoption tried,\n",
    "Grapple them unto thy soul with hoops of steel;\n",
    "But do not dull thy palm with entertainment\n",
    "Of each new-hatch’d, unfledg’d comrade. Beware\n",
    "Of entrance to a quarrel; but being in,\n",
    "Bear’t that th’ opposed may beware of thee.\"\"\""
   ]
  },
  {
   "cell_type": "code",
   "execution_count": 155,
   "id": "100e0af1",
   "metadata": {},
   "outputs": [],
   "source": [
    "hamlet_clean=list(hamlet.replace(\"\\n\", '').replace(\" \", '').lower())\n",
    "signs_dict={} #here we will keep letters and their amount\n",
    "for i in hamlet_clean:\n",
    "    if i in list(signs_dict.keys()):\n",
    "        signs_dict[i]=signs_dict[i]+1\n",
    "    else:\n",
    "        signs_dict[i]=1\n",
    "\n",
    "        \n",
    "        \n",
    "alphabet=list('abcdefghijklmnopqrstuvwxyz') \n",
    "missing_letters=[i for i in alphabet if i not in set(hamlet.lower())] #here are the missing letters"
   ]
  },
  {
   "cell_type": "code",
   "execution_count": 156,
   "id": "7d0a5844",
   "metadata": {},
   "outputs": [
    {
     "data": {
      "text/plain": [
       "{'y': 13,\n",
       " 'e': 53,\n",
       " 't': 51,\n",
       " 'h': 35,\n",
       " 'r': 31,\n",
       " ',': 10,\n",
       " 'l': 15,\n",
       " 'a': 36,\n",
       " 's': 21,\n",
       " '?': 1,\n",
       " 'b': 12,\n",
       " 'o': 40,\n",
       " 'd': 19,\n",
       " 'f': 11,\n",
       " 'm': 11,\n",
       " '!': 2,\n",
       " 'w': 8,\n",
       " 'i': 21,\n",
       " 'n': 28,\n",
       " 'u': 19,\n",
       " '’': 6,\n",
       " '.': 5,\n",
       " '-': 2,\n",
       " 'g': 9,\n",
       " 'p': 11,\n",
       " 'c': 8,\n",
       " 'k': 1,\n",
       " 'v': 2,\n",
       " ':': 1,\n",
       " ';': 2,\n",
       " 'q': 1}"
      ]
     },
     "execution_count": 156,
     "metadata": {},
     "output_type": "execute_result"
    }
   ],
   "source": [
    "signs_dict"
   ]
  },
  {
   "cell_type": "code",
   "execution_count": 157,
   "id": "d7a9d0a0",
   "metadata": {},
   "outputs": [
    {
     "data": {
      "text/plain": [
       "['j', 'x', 'z']"
      ]
     },
     "execution_count": 157,
     "metadata": {},
     "output_type": "execute_result"
    }
   ],
   "source": [
    "missing_letters"
   ]
  },
  {
   "cell_type": "code",
   "execution_count": 158,
   "id": "a340f935",
   "metadata": {},
   "outputs": [],
   "source": [
    "# 4. [Bonus task: character counts, part 2] Extend your program from 3. to collect statistics on\n",
    "# the position of each character in a word. Use a dictionary to store those positions (in a list),\n",
    "# and finally print the “average” position for each character.\n",
    "# Hint: use the function split() to tokenize an input string (like the one given in 3.) into\n",
    "# words!"
   ]
  },
  {
   "cell_type": "code",
   "execution_count": 159,
   "id": "ad612ea9",
   "metadata": {},
   "outputs": [
    {
     "name": "stdout",
     "output_type": "stream",
     "text": [
      "average position of y is 2.69\n",
      "average position of e is 3.17\n",
      "average position of t is 2.45\n",
      "average position of h is 2.29\n",
      "average position of r is 4.1\n",
      "average position of , is 6.6\n",
      "average position of l is 3.73\n",
      "average position of a is 2.53\n",
      "average position of s is 3.57\n",
      "average position of ? is 8.0\n",
      "average position of b is 1.17\n",
      "average position of o is 2.42\n",
      "average position of d is 5.37\n",
      "average position of f is 1.64\n",
      "average position of m is 3.0\n",
      "average position of ! is 5.5\n",
      "average position of w is 2.0\n",
      "average position of i is 3.38\n",
      "average position of n is 2.54\n",
      "average position of u is 2.79\n",
      "average position of ’ is 7.33\n",
      "average position of . is 6.2\n",
      "average position of - is 5.0\n",
      "average position of g is 4.44\n",
      "average position of p is 2.64\n",
      "average position of c is 3.38\n",
      "average position of k is 4.0\n",
      "average position of v is 2.0\n",
      "average position of : is 7.0\n",
      "average position of ; is 7.0\n",
      "average position of q is 1.0\n"
     ]
    }
   ],
   "source": [
    "#place_letters=dict.fromkeys(hamlet_clean, [0]) #not sure why this is not working \n",
    "\n",
    "place_letters = {e:[] for e in hamlet_clean} #this is slower though, but working\n",
    "for i in hamlet.lower().split():\n",
    "    for j in i:\n",
    "        place_letters[j].append(i.index(j) + 1)\n",
    "        #print(i, j, place_letters[j], i.index(j)+1)\n",
    "for i in place_letters.keys():\n",
    "    avg = sum(place_letters[i])/len(place_letters[i])\n",
    "    print(\"average position of\", i, \"is\", round(avg,2))"
   ]
  },
  {
   "cell_type": "code",
   "execution_count": null,
   "id": "7f3d1566",
   "metadata": {},
   "outputs": [],
   "source": []
  }
 ],
 "metadata": {
  "kernelspec": {
   "display_name": "Python 3 (ipykernel)",
   "language": "python",
   "name": "python3"
  },
  "language_info": {
   "codemirror_mode": {
    "name": "ipython",
    "version": 3
   },
   "file_extension": ".py",
   "mimetype": "text/x-python",
   "name": "python",
   "nbconvert_exporter": "python",
   "pygments_lexer": "ipython3",
   "version": "3.8.9"
  }
 },
 "nbformat": 4,
 "nbformat_minor": 5
}
