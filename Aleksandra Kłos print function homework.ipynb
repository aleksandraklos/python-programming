{
 "cells": [
  {
   "cell_type": "code",
   "execution_count": 30,
   "id": "62cfb506",
   "metadata": {},
   "outputs": [
    {
     "name": "stdout",
     "output_type": "stream",
     "text": [
      "Marek is 100 years old. 4 times 5 equals 20.This course is worth 8 ECTS.\n"
     ]
    }
   ],
   "source": [
    "#exercise 2\n",
    "#Print 3 combinations of text and numbers, once directly in the print function, once by declaring each part a variable\n",
    "print(\"Marek is 100 years old.\", \"4 times 5 equals 20.\" \"This course is worth 8 ECTS.\")\n"
   ]
  },
  {
   "cell_type": "code",
   "execution_count": 31,
   "id": "3a2308a8",
   "metadata": {},
   "outputs": [
    {
     "name": "stdout",
     "output_type": "stream",
     "text": [
      "4 times 5 equals 20. \n",
      "Marek is 100 years old. \n",
      "This course is worth 8 ECTS.\n"
     ]
    }
   ],
   "source": [
    "years=100\n",
    "e=4\n",
    "f=5\n",
    "ects=8\n",
    "print(str(e) + \" times \" + str(f)+ \" equals 20.\", \"\\nMarek is %d years old.\"%years, f\"\\nThis course is worth {ects} ECTS.\")\n"
   ]
  },
  {
   "cell_type": "code",
   "execution_count": 32,
   "id": "5d414264",
   "metadata": {},
   "outputs": [
    {
     "name": "stdout",
     "output_type": "stream",
     "text": [
      "\"Love all, trust few, do wrong to none\" \n",
      " -William Shakespeare, All's Well That Ends Well\n"
     ]
    }
   ],
   "source": [
    "#exercise 3\n",
    "print(\"\\\"Love all, trust few, do wrong to none\\\" \\n -William Shakespeare, All's Well That Ends Well\")"
   ]
  },
  {
   "cell_type": "code",
   "execution_count": 33,
   "id": "bf9cc436",
   "metadata": {},
   "outputs": [
    {
     "name": "stdout",
     "output_type": "stream",
     "text": [
      "105\n"
     ]
    }
   ],
   "source": [
    "#exercise 4\n",
    "a = 5\n",
    "b = 100\n",
    "print(a+b)"
   ]
  },
  {
   "cell_type": "code",
   "execution_count": 34,
   "id": "e0318b3c",
   "metadata": {},
   "outputs": [
    {
     "name": "stdout",
     "output_type": "stream",
     "text": [
      "5100\n"
     ]
    }
   ],
   "source": [
    "c = \"5\"\n",
    "d = \"100\"\n",
    "print(c+d)\n"
   ]
  },
  {
   "cell_type": "markdown",
   "id": "2b13f0fe",
   "metadata": {},
   "source": [
    "# variables are printed next to each other as text, the calculation is not executed"
   ]
  },
  {
   "cell_type": "code",
   "execution_count": null,
   "id": "aef7b684",
   "metadata": {},
   "outputs": [],
   "source": []
  }
 ],
 "metadata": {
  "kernelspec": {
   "display_name": "Python 3 (ipykernel)",
   "language": "python",
   "name": "python3"
  },
  "language_info": {
   "codemirror_mode": {
    "name": "ipython",
    "version": 3
   },
   "file_extension": ".py",
   "mimetype": "text/x-python",
   "name": "python",
   "nbconvert_exporter": "python",
   "pygments_lexer": "ipython3",
   "version": "3.8.9"
  }
 },
 "nbformat": 4,
 "nbformat_minor": 5
}
