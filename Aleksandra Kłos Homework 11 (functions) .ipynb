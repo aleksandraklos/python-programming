{
 "cells": [
  {
   "cell_type": "code",
   "execution_count": null,
   "id": "205ce27e",
   "metadata": {},
   "outputs": [],
   "source": [
    "# 1. [Average function] Implement a function average() that receives one required\n",
    "# argument and an arbitrary argument list *args. The function will always require at least one\n",
    "# argument and thus avoid a ZeroDivisionError which might occur otherwise . When you call\n",
    "# average with no arguments, Python should issue a TypeError indicating \"average() missing 1\n",
    "# required positional argument.\" Test your function with 0, 1, and 2 or more arguments!"
   ]
  },
  {
   "cell_type": "code",
   "execution_count": 7,
   "id": "b6456600",
   "metadata": {},
   "outputs": [],
   "source": [
    "#no idea what it should look like, i don't understand this \"Implement a function average() that receives one required\n",
    "# argument and an arbitrary argument list *args.\"\n",
    "#It will return the needed message only if normal type argument is needed, not *args\n",
    "args=[1,2,3,4,5,6]\n",
    "def average(args):\n",
    "    count=0\n",
    "    sums=0\n",
    "    average=sum(args)/len(args)\n",
    "    return average\n",
    "    "
   ]
  },
  {
   "cell_type": "code",
   "execution_count": 8,
   "id": "01083b7f",
   "metadata": {},
   "outputs": [
    {
     "ename": "TypeError",
     "evalue": "average() missing 1 required positional argument: 'args'",
     "output_type": "error",
     "traceback": [
      "\u001b[0;31m---------------------------------------------------------------------------\u001b[0m",
      "\u001b[0;31mTypeError\u001b[0m                                 Traceback (most recent call last)",
      "Cell \u001b[0;32mIn [8], line 1\u001b[0m\n\u001b[0;32m----> 1\u001b[0m average()\n",
      "\u001b[0;31mTypeError\u001b[0m: average() missing 1 required positional argument: 'args'"
     ]
    }
   ],
   "source": [
    "average()"
   ]
  },
  {
   "cell_type": "code",
   "execution_count": null,
   "id": "01ab1246",
   "metadata": {},
   "outputs": [],
   "source": [
    "#  [Simulation: the tortoise and the hare] In this problem, you’ll re-create the classic race of\n",
    "# the tortoise and the hare. You’ll use random-number generation to develop a simulation of\n",
    "# this memorable event.\n",
    "# Our contenders begin the race at square 1 of 70 squares. Each square represents a position\n",
    "# along the race course. The finish line is at square 70. The first contender to reach or pass\n",
    "# square 70 is rewarded with a pail of fresh carrots and lettuce. The course weaves its way up\n",
    "# the side of a slippery mountain, so occasionally the contenders lose ground.\n",
    "# A clock ticks once per second. With each tick of the clock, your application should adjust the\n",
    "# position of the animals according to the rules in the table below. Use variables to keep track\n",
    "# of the positions of the animals (i.e., position numbers are 1–70). Start each animal at position\n",
    "# 1 (the “starting gate”). If an animal slips left before square 1, move it back to square 1."
   ]
  },
  {
   "cell_type": "code",
   "execution_count": null,
   "id": "2b0ab8f1",
   "metadata": {},
   "outputs": [],
   "source": [
    "# Create two functions that generate the percentages in the table for the tortoise and the\n",
    "# hare, respectively, by producing a random integer i in the range 1 ≤ i ≤ 10. You might use\n",
    "# function randrange() of module random (see\n",
    "# https://docs.python.org/3/library/random.html#random.randrange) , or a similar random\n",
    "# number generation facility for this purpose.\n",
    "# In the function for the tortoise, perform a “fast plod” when 1 ≤ i ≤ 5, a “slip” when 6 ≤ i ≤ 7 or\n",
    "# a “slow plod” when 8 ≤ i ≤ 10. Use a similar technique in the function for the hare.\n",
    "# Then, for each tick of the clock (i.e., each iteration of a loop), display a 70-position line\n",
    "# showing the letter \"T\" in the position of the tortoise and the letter \"H\" in the position of the\n",
    "# hare. Occasionally, the contenders will land on the same square. In this case, the tortoise\n",
    "# bites the hare, and your application should display \"OUCH!!!\" at that position. All positions\n",
    "# other than the \"T\", the \"H\" or the \"OUCH!!!\" (in case of a tie) should be blank.\n",
    "# After each line is displayed, test for whether either animal has reached or passed square 70.\n",
    "# If so, display the winner and terminate the simulation. A tie should also be displayed\n",
    "# accordingly. If neither animal wins, perform the loop again to simulate the next tick of the\n",
    "# clock. "
   ]
  },
  {
   "cell_type": "code",
   "execution_count": 11,
   "id": "1a532d18",
   "metadata": {},
   "outputs": [],
   "source": [
    "def  move_turtle():\n",
    "    turtle_move=0\n",
    "    r=random.randrange(0,9)+1\n",
    "    if (r>=1 and r<=5):\n",
    "        turtle_move=3\n",
    "    elif (r==6 or r==7):\n",
    "        turtle_move=-6\n",
    "    else:\n",
    "        turtle_move=1\n",
    "    return turtle_move     \n",
    "\n",
    "def  move_rabbit():\n",
    "    rabbit_move=0\n",
    "    r=random.randrange(0,9)+1\n",
    "    if (r==1 or r==2):\n",
    "        rabbit_move=0\n",
    "    elif (r==3 or r==4):\n",
    "        rabbit_move=9\n",
    "    elif (r==5):\n",
    "        rabbit_move=-12\n",
    "    elif (r>5 and r<=8):\n",
    "         rabbit_move=1 \n",
    "    else:\n",
    "        rabbit_move=2\n",
    "    return rabbit_move    "
   ]
  },
  {
   "cell_type": "code",
   "execution_count": 12,
   "id": "42e01cd9",
   "metadata": {},
   "outputs": [
    {
     "name": "stdout",
     "output_type": "stream",
     "text": [
      " R T\n",
      " R  T\n",
      "   R   T\n",
      "     R    T\n",
      "R            T\n",
      "R               T\n",
      " R                 T\n",
      "  R                 T\n",
      "   R          T\n",
      "            R    T\n",
      "             R    T\n",
      "              R      T\n",
      "               R        T\n",
      "                        RT\n",
      "                        R   T\n",
      "                          R    T\n",
      "                                  TR\n",
      "                                     T      R\n",
      "                                        T            R\n",
      "                                         T           R\n",
      "                                          T                   R\n",
      "                                           T      R\n",
      "                                              T            R\n",
      "                                               T           R\n",
      "                                                  T        R\n",
      "                                                     T      R\n",
      "                                                      T       R\n",
      "                                                       T       R\n",
      "                                                 T             R\n",
      "                                                  T                     R\n",
      "HARE WINS!!! YAY!!!\n"
     ]
    }
   ],
   "source": [
    "import random \n",
    "turtle_pos=1\n",
    "rabbit_pos=1\n",
    "\n",
    "while True:    \n",
    "    move_r=move_rabbit()\n",
    "    move_t=move_turtle()\n",
    "    turtle_pos+=move_t\n",
    "    rabbit_pos+=move_r\n",
    "\n",
    "    if turtle_pos<1:\n",
    "        turtle_pos=1\n",
    "\n",
    "    if rabbit_pos<1:\n",
    "        rabbit_pos=1\n",
    "\n",
    "        \n",
    "    if turtle_pos==rabbit_pos:\n",
    "        print(f\"{' '*(turtle_pos-1)}OUCH!\")\n",
    "    elif turtle_pos>rabbit_pos:\n",
    "        print(f\"{' '*(rabbit_pos-1)}R{' '*abs(turtle_pos-rabbit_pos-1)}T\")\n",
    "    else:\n",
    "        print(f\"{' '*(turtle_pos-1)}T{' '*abs(rabbit_pos-turtle_pos-1)}R\")\n",
    "    \n",
    "    \n",
    "    if turtle_pos>=70 and rabbit_pos>=70:\n",
    "        print(\"We HAVE A TIE!!!\")\n",
    "        break\n",
    "    elif turtle_pos>=70:\n",
    "        print(\"TORTOISE WINS!!! YAY!!!\")\n",
    "        break\n",
    "    elif rabbit_pos>=70:\n",
    "        print(\"HARE WINS!!! YAY!!!\")\n",
    "        break\n",
    "    else:\n",
    "        pass\n",
    "    \n"
   ]
  },
  {
   "cell_type": "code",
   "execution_count": null,
   "id": "4d40dc94",
   "metadata": {},
   "outputs": [],
   "source": []
  }
 ],
 "metadata": {
  "kernelspec": {
   "display_name": "Python 3 (ipykernel)",
   "language": "python",
   "name": "python3"
  },
  "language_info": {
   "codemirror_mode": {
    "name": "ipython",
    "version": 3
   },
   "file_extension": ".py",
   "mimetype": "text/x-python",
   "name": "python",
   "nbconvert_exporter": "python",
   "pygments_lexer": "ipython3",
   "version": "3.8.9"
  }
 },
 "nbformat": 4,
 "nbformat_minor": 5
}
